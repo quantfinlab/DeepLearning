{
 "cells": [
  {
   "cell_type": "markdown",
   "metadata": {},
   "source": [
    "# Task 2: Char-RNN"
   ]
  },
  {
   "cell_type": "markdown",
   "metadata": {},
   "source": [
    "Char-RNN implements multi-layer Recurrent Neural Network (RNN, LSTM, and GRU) for training/sampling from character-level language models. In other words the model takes one text file as input and trains a Recurrent Neural Network that learns to predict the next character in a sequence. The RNN can then be used to generate text character by character that will look like the original training data. This network is first posted by Andrej Karpathy, you can find out about his original code on https://github.com/karpathy/char-rnn, the original code is written in *lua*."
   ]
  },
  {
   "cell_type": "markdown",
   "metadata": {},
   "source": [
    "Here we will implement Char-RNN using Tensorflow!"
   ]
  },
  {
   "cell_type": "code",
   "execution_count": 2,
   "metadata": {},
   "outputs": [],
   "source": [
    "import time\n",
    "import numpy as np\n",
    "import tensorflow as tf\n",
    "\n",
    "# Notebook auto reloads code. (Ref: http://stackoverflow.com/questions/1907993/autoreload-of-modules-in-ipython)\n",
    "%load_ext autoreload\n",
    "%autoreload 2"
   ]
  },
  {
   "cell_type": "markdown",
   "metadata": {},
   "source": [
    "## Part 1: Setup\n",
    "In this part, we will read the data of our input text and process the text for later network training. There are two txt files in the data folder, for computing time consideration, we will use tinyshakespeare.txt here."
   ]
  },
  {
   "cell_type": "code",
   "execution_count": 3,
   "metadata": {},
   "outputs": [
    {
     "name": "stdout",
     "output_type": "stream",
     "text": [
      "Length of text: 1115394 characters\n",
      "First Citizen:\n",
      "Before we proceed any further, hear me speak.\n",
      "\n",
      "All:\n",
      "Speak, speak.\n",
      "\n",
      "First Citizen:\n",
      "You are all resolved rather to die than to famish?\n",
      "\n",
      "All:\n",
      "Resolved. resolved.\n",
      "\n",
      "First Citizen:\n",
      "First, you know Caius Marcius is chief enemy to the people.\n",
      "\n",
      "All:\n",
      "We know't, we know't.\n",
      "\n",
      "First Citizen:\n",
      "Let us kill him, and we'll have corn at our own price.\n",
      "Is't a verdict?\n",
      "\n",
      "All:\n",
      "No more talking on't; let it be done: away, away!\n",
      "\n",
      "Second Citizen:\n",
      "One word, good citizens.\n",
      "\n",
      "First Citizen:\n",
      "We are accounted poor\n"
     ]
    }
   ],
   "source": [
    "with open('data/tinyshakespeare.txt', 'r') as f:\n",
    "    text=f.read()\n",
    "# length of text is the number of characters in it\n",
    "print('Length of text: {} characters'.format(len(text)))\n",
    "# and let's get a glance of what the text is\n",
    "print(text[:500])"
   ]
  },
  {
   "cell_type": "code",
   "execution_count": 4,
   "metadata": {},
   "outputs": [
    {
     "name": "stdout",
     "output_type": "stream",
     "text": [
      "65 unique characters\n"
     ]
    }
   ],
   "source": [
    "# The unique characters in the file\n",
    "vocab = sorted(set(text))\n",
    "print ('{} unique characters'.format(len(vocab)))"
   ]
  },
  {
   "cell_type": "code",
   "execution_count": 5,
   "metadata": {},
   "outputs": [
    {
     "name": "stdout",
     "output_type": "stream",
     "text": [
      "'\\n'   --->    0\n",
      "' '    --->    1\n",
      "'!'    --->    2\n",
      "'$'    --->    3\n",
      "'&'    --->    4\n",
      "\"'\"    --->    5\n",
      "','    --->    6\n",
      "'-'    --->    7\n",
      "'.'    --->    8\n",
      "'3'    --->    9\n",
      "':'    --->   10\n",
      "';'    --->   11\n",
      "'?'    --->   12\n",
      "'A'    --->   13\n",
      "'B'    --->   14\n",
      "'C'    --->   15\n",
      "'D'    --->   16\n",
      "'E'    --->   17\n",
      "'F'    --->   18\n",
      "'G'    --->   19\n",
      "First Citi --- characters mapped to int --- > [18 47 56 57 58  1 15 47 58 47]\n"
     ]
    }
   ],
   "source": [
    "# Creating a mapping from unique characters to indices\n",
    "vocab_to_ind = {c: i for i, c in enumerate(vocab)}\n",
    "ind_to_vocab = dict(enumerate(vocab))\n",
    "text_as_int = np.array([vocab_to_ind[c] for c in text], dtype=np.int32)\n",
    "\n",
    "# We mapped the character as indexes from 0 to len(vocab)\n",
    "for char,_ in zip(vocab_to_ind, range(20)):\n",
    "    print('{:6s} ---> {:4d}'.format(repr(char), vocab_to_ind[char]))\n",
    "# Show how the first 10 characters from the text are mapped to integers\n",
    "print ('{} --- characters mapped to int --- > {}'.format(text[:10], text_as_int[:10]))"
   ]
  },
  {
   "cell_type": "markdown",
   "metadata": {},
   "source": [
    "## Part 2: Creating batches\n",
    "Now that we have preprocessed our input data, we then need to partition our data, here we will use mini-batches to train our model, so how will we define our batches?\n",
    "\n",
    "Let's first clarify the concepts of batches:\n",
    "1. **batch_size**: Reviewing batches in CNN, if we have 100 samples and we set batch_size as 10, it means that we will send 10 samples to the network at one time. In RNN, batch_size have the same meaning, it defines how many samples we send to the network at one time.\n",
    "2. **sequence_length**: However, as for RNN, we store memory in our cells, we pass the information through cells, so we have this sequence_length concept, which also called 'steps', it defines how long a sequence is.\n",
    "\n",
    "From above two concepts, we here clarify the meaning of batch_size in RNN. Here, we define the number of sequences in a batch as N and the length of each sequence as M, so batch_size in RNN **still** represent the number of sequences in a batch but the data size of a batch is actually an array of size **[N, M]**."
   ]
  },
  {
   "cell_type": "markdown",
   "metadata": {},
   "source": [
    "<span style=\"color:red\">TODO:</span>\n",
    "finish the get_batches() function below to generate mini-batches.\n",
    "\n",
    "Hint: this function defines a generator, use *yield*."
   ]
  },
  {
   "cell_type": "code",
   "execution_count": 6,
   "metadata": {},
   "outputs": [],
   "source": [
    "def get_batches(array, n_seqs, n_steps):\n",
    "    '''\n",
    "    Partition data array into mini-batches\n",
    "    input:\n",
    "    array: input data\n",
    "    n_seqs: number of sequences in a batch\n",
    "    n_steps: length of each sequence\n",
    "    output:\n",
    "    x: inputs\n",
    "    y: targets, which is x with one position shift\n",
    "       you can check the following figure to get the sence of what a target looks like\n",
    "    '''\n",
    "    batch_size = n_seqs * n_steps\n",
    "    n_batches = int(len(array) / batch_size)\n",
    "    # we only keep the full batches and ignore the left.\n",
    "    array = array[:batch_size * n_batches]\n",
    "    array = array.reshape((n_seqs, -1))\n",
    "    \n",
    "    # You should now create a loop to generate batches for inputs and targets\n",
    "    #############################################\n",
    "    #           TODO: YOUR CODE HERE            #\n",
    "    #############################################\n",
    "    \n",
    "    for i in range(n_seqs, array.shape[1]):\n",
    "        yield array[:,i-n_seqs:i], array[:,i-n_seqs+1:i+1]"
   ]
  },
  {
   "cell_type": "code",
   "execution_count": null,
   "metadata": {},
   "outputs": [],
   "source": []
  },
  {
   "cell_type": "code",
   "execution_count": 7,
   "metadata": {},
   "outputs": [
    {
     "name": "stdout",
     "output_type": "stream",
     "text": [
      "x\n",
      " [[18 47 56 57 58  1 15 47 58 47]\n",
      " [ 1 43 52 43 51 63 11  0 37 43]\n",
      " [52 58 43 42  1 60 47 56 58 59]\n",
      " [56 44 53 50 49  6  0 27 52  1]\n",
      " [47 52  1 57 54 47 58 43  1 53]\n",
      " [56 57  6  1 39 52 42  1 57 58]\n",
      " [46 47 51  1 42 53 61 52  1 58]\n",
      " [ 1 40 43 43 52  1 57 47 52 41]\n",
      " [50 58 57  1 51 39 63  1 57 46]\n",
      " [57 47 53 52  1 53 44  1 56 43]]\n",
      "\n",
      "y\n",
      " [[47 56 57 58  1 15 47 58 47 64]\n",
      " [43 52 43 51 63 11  0 37 43 58]\n",
      " [58 43 42  1 60 47 56 58 59 43]\n",
      " [44 53 50 49  6  0 27 52  1 54]\n",
      " [52  1 57 54 47 58 43  1 53 44]\n",
      " [57  6  1 39 52 42  1 57 58 39]\n",
      " [47 51  1 42 53 61 52  1 58 53]\n",
      " [40 43 43 52  1 57 47 52 41 43]\n",
      " [58 57  1 51 39 63  1 57 46 39]\n",
      " [47 53 52  1 53 44  1 56 43 60]]\n"
     ]
    }
   ],
   "source": [
    "batches = get_batches(text_as_int, 10, 10)\n",
    "x, y = next(batches)\n",
    "print('x\\n', x[:10, :10])\n",
    "print('\\ny\\n', y[:10, :10])"
   ]
  },
  {
   "cell_type": "markdown",
   "metadata": {},
   "source": [
    "## Part 3: Build Char-RNN model\n",
    "In this section, we will build our char-rnn model, it consists of input layer, rnn_cell layer, output layer, loss and optimizer, we will build them one by one.\n",
    "\n",
    "The goal is to predict new text after given prime word, so for our training data, we have to define inputs and targets, here is a figure that explains the structure of the Char-RNN network.\n",
    "\n",
    "![structure](img/charrnn.jpg)"
   ]
  },
  {
   "cell_type": "markdown",
   "metadata": {},
   "source": [
    "<span style=\"color:red\">TODO:</span>\n",
    "finish all TODOs in ecbm4040.CharRNN and the blanks in the following cells.\n",
    "\n",
    "**Note: The training process on following settings of parameters takes about 20 minutes on a GTX 1070 GPU, so you are suggested to use GCP for this task.**"
   ]
  },
  {
   "cell_type": "code",
   "execution_count": 9,
   "metadata": {},
   "outputs": [],
   "source": [
    "from ecbm4040.CharRNN import *"
   ]
  },
  {
   "cell_type": "markdown",
   "metadata": {},
   "source": [
    "### Training\n",
    "Set sampling as False(default), we can start training the network, we automatically save checkpoints in the folder /checkpoints."
   ]
  },
  {
   "cell_type": "code",
   "execution_count": 8,
   "metadata": {},
   "outputs": [],
   "source": [
    "# these are preset parameters, you can change them to get better result\n",
    "batch_size = 100         # Sequences per batch\n",
    "num_steps = 100          # Number of sequence steps per batch\n",
    "rnn_size = 256           # Size of hidden layers in rnn_cell\n",
    "num_layers = 2           # Number of hidden layers\n",
    "learning_rate = 0.005    # Learning rate"
   ]
  },
  {
   "cell_type": "code",
   "execution_count": 10,
   "metadata": {
    "scrolled": false
   },
   "outputs": [
    {
     "name": "stdout",
     "output_type": "stream",
     "text": [
      "step: 200  loss: 2.6566  0.2294 sec/batch\n",
      "step: 400  loss: 2.4740  0.2293 sec/batch\n",
      "step: 600  loss: 2.3747  0.2334 sec/batch\n",
      "step: 800  loss: 2.3997  0.2297 sec/batch\n",
      "step: 1000  loss: 2.3928  0.2271 sec/batch\n",
      "step: 1200  loss: 2.3154  0.2321 sec/batch\n",
      "step: 1400  loss: 2.3491  0.2358 sec/batch\n",
      "step: 1600  loss: 2.3216  0.2255 sec/batch\n",
      "step: 1800  loss: 2.3367  0.2323 sec/batch\n",
      "step: 2000  loss: 2.2879  0.2300 sec/batch\n",
      "step: 2200  loss: 2.3515  0.2291 sec/batch\n",
      "step: 2400  loss: 2.2853  0.2321 sec/batch\n",
      "step: 2600  loss: 2.3126  0.2304 sec/batch\n",
      "step: 2800  loss: 2.2776  0.2283 sec/batch\n",
      "step: 3000  loss: 2.2754  0.2298 sec/batch\n",
      "step: 3200  loss: 2.2735  0.2293 sec/batch\n",
      "step: 3400  loss: 2.2893  0.2315 sec/batch\n",
      "step: 3600  loss: 2.2674  0.2310 sec/batch\n",
      "step: 3800  loss: 2.2372  0.2315 sec/batch\n",
      "step: 4000  loss: 2.2490  0.2281 sec/batch\n",
      "step: 4200  loss: 2.2841  0.2288 sec/batch\n",
      "step: 4400  loss: 2.2493  0.2265 sec/batch\n",
      "step: 4600  loss: 2.2734  0.2328 sec/batch\n",
      "step: 4800  loss: 2.2590  0.2299 sec/batch\n",
      "step: 5000  loss: 2.2431  0.2281 sec/batch\n",
      "step: 5200  loss: 2.2655  0.2346 sec/batch\n",
      "step: 5400  loss: 2.2094  0.2281 sec/batch\n",
      "step: 5600  loss: 2.2345  0.2293 sec/batch\n",
      "step: 5800  loss: 2.2656  0.2301 sec/batch\n",
      "step: 6000  loss: 2.2476  0.2315 sec/batch\n"
     ]
    }
   ],
   "source": [
    "model = CharRNN(len(vocab), batch_size, num_steps, 'LSTM', rnn_size,\n",
    "               num_layers, learning_rate)\n",
    "batches = get_batches(text_as_int, batch_size, num_steps)\n",
    "model.train(batches, 6000, 2000)"
   ]
  },
  {
   "cell_type": "code",
   "execution_count": 17,
   "metadata": {},
   "outputs": [
    {
     "data": {
      "text/plain": [
       "model_checkpoint_path: \"checkpoints/i6000_l256.ckpt\"\n",
       "all_model_checkpoint_paths: \"checkpoints/i2000_l256.ckpt\"\n",
       "all_model_checkpoint_paths: \"checkpoints/i4000_l256.ckpt\"\n",
       "all_model_checkpoint_paths: \"checkpoints/i6000_l256.ckpt\""
      ]
     },
     "execution_count": 17,
     "metadata": {},
     "output_type": "execute_result"
    }
   ],
   "source": [
    "# look up checkpoints\n",
    "tf.train.get_checkpoint_state('checkpoints')"
   ]
  },
  {
   "cell_type": "markdown",
   "metadata": {},
   "source": [
    "### Sampling\n",
    "Set the sampling as True and we can generate new characters one by one. We can use our saved checkpoints to see how the network learned gradually."
   ]
  },
  {
   "cell_type": "code",
   "execution_count": 28,
   "metadata": {},
   "outputs": [
    {
     "name": "stdout",
     "output_type": "stream",
     "text": [
      "INFO:tensorflow:Restoring parameters from checkpoints/i6000_l256.ckpt\n",
      "['L' 'O' 'R' ... ' ' 't' ' ']\n",
      "LORD h eae ee there fas o  our h ayoreet witetha etheaat tha  ouae m h an tt  aresthi oveet w t  y  met t h his ane a w tht ae thehentand is\n",
      "A wt  h mythe  manchther a sor ter ar e aooeraaouh ou t onouofe at th toteou tr fa  e or he myo he s hesooth  t no eshano tte e ouoeon w ad we he  oe tha he en hnoa l hinoourimor   atea ae anoot t  a he  ot mo th\n",
      "The w hoeaat h amad  hti s, irotae me   ooo  t tht   or t, aaendtaooo t  t w t  hot hanoat oe t w ho ad hon hia he wis  owi adarou a the erethethaant  ade maofo  e  t  te  melle thesoneeree oto  totero et te thor ht \n",
      "ae  therour tof wit ht   s aal t ft or o we atee a  t teeo ome faan w eou  w ed wa ou se then  tinthaed  tt   tht wot e t  aroeaee ar    thoe e we han aret w  ane o t te w  eof t ondee m ofehe se   t ote\n",
      "ou antitont ee ot at tha e w lto oue  sh  tt atoeea   te wot hothaod atoe we t al ane a aoe anoan out  hethe he ads athe  wal totet   aoueththane t th theall t wa a e st o hnon  otrente thesteeroro the so war hanat  ly  ounou t t \n"
     ]
    }
   ],
   "source": [
    "model = CharRNN(len(vocab), batch_size, num_steps, 'LSTM',rnn_size,\n",
    "               num_layers, learning_rate, sampling=True)\n",
    "# choose the last checkpoint and generate new text\n",
    "checkpoint = tf.train.latest_checkpoint('checkpoints')\n",
    "samp = model.sample(checkpoint, 1000, len(vocab), vocab_to_ind, ind_to_vocab, prime=\"LORD \")\n",
    "print(samp)\n",
    "print(''.join(samp))\n"
   ]
  },
  {
   "cell_type": "code",
   "execution_count": 29,
   "metadata": {},
   "outputs": [
    {
     "name": "stdout",
     "output_type": "stream",
     "text": [
      "INFO:tensorflow:Restoring parameters from checkpoints/i2000_l256.ckpt\n",
      "LORD ono nov ousthre\n",
      "Weth outth eo   he  se a he  h teend st   t t t sothiowhthe hila  tane s the aoe   thithee  t reenor h w h sorienast t atroth\n",
      "touthe\n",
      "O:\n",
      " e t byt eth t, t,\n",
      "TUC e ereeer e boo oon\n",
      " thttoeteon haeen ae wakof ws wat s anee ath touselhout herori en t oar,\n",
      "eea  and b te stotteh  te aheee st tt we   we w s te enhast arious    e ae weroer endhoenara\n",
      "oe s th te athho teroust hae  w  ous  oothaenoenher st se ere hasouseooongen  are s ha thah\n",
      " eoe  eleoustheel hou hers be stheso th t  stht t   o a  at a sthtal sattoeoat s hoot s eser sou otohars, t t athint s t se es wit s eeheeous\n",
      "  tthis anesoe, t t are sthofo s t hah  eoutoof e te ano wthis a otte t an fon  hay, ore s h weouoeot s shite o thack st ang ou\n",
      "t o tar teneeesattoun snt e want toushehitith e thi noonoeht encoale e   e haneer  b tont  t  s, ao t a and tt  o  moth ttrace e tonee  o heareotehorow e oour  wnd outhe ant  s  e e o s ssor haayoou s  s  aert teo s we weeheerhillieaneelland  s bt testt at ale  sowentomth ayond\n"
     ]
    }
   ],
   "source": [
    "# choose a checkpoint other than the final one and see the results. It could be nasty, don't worry!\n",
    "#############################################\n",
    "#           TODO: YOUR CODE HERE            #\n",
    "#############################################\n",
    "samp = model.sample('checkpoints/i2000_l256.ckpt', 1000, len(vocab), vocab_to_ind, ind_to_vocab, prime=\"LORD \")\n",
    "print(''.join(samp))"
   ]
  },
  {
   "cell_type": "markdown",
   "metadata": {},
   "source": [
    "### Change another type of RNN cell\n",
    "We are using LSTM cell as the original work, but GRU cell is getting more popular today, let's chage the cell in rnn_cell layer to GRU cell and see how it performs. Your number of step should be the same as above."
   ]
  },
  {
   "cell_type": "markdown",
   "metadata": {},
   "source": [
    "**Note: You need to change your saved checkpoints' name or they will rewrite the LSTM results that you have already saved.**"
   ]
  },
  {
   "cell_type": "code",
   "execution_count": 10,
   "metadata": {},
   "outputs": [
    {
     "name": "stdout",
     "output_type": "stream",
     "text": [
      "step: 200  loss: 2.5569  0.2294 sec/batch\n",
      "step: 400  loss: 2.4059  0.2293 sec/batch\n",
      "step: 600  loss: 2.3781  0.2288 sec/batch\n",
      "step: 800  loss: 2.3747  0.2265 sec/batch\n",
      "step: 1000  loss: 2.3534  0.2214 sec/batch\n",
      "step: 1200  loss: 2.3154  0.2241 sec/batch\n",
      "step: 1400  loss: 2.3240  0.2248 sec/batch\n",
      "step: 1600  loss: 2.3056  0.2338 sec/batch\n",
      "step: 1800  loss: 2.3119  0.2224 sec/batch\n",
      "step: 2000  loss: 2.3015  0.2268 sec/batch\n",
      "step: 2200  loss: 2.3344  0.2284 sec/batch\n",
      "step: 2400  loss: 2.2753  0.2238 sec/batch\n",
      "step: 2600  loss: 2.2775  0.2267 sec/batch\n",
      "step: 2800  loss: 2.2789  0.2348 sec/batch\n",
      "step: 3000  loss: 2.2831  0.4045 sec/batch\n",
      "step: 3200  loss: 2.2701  0.2267 sec/batch\n",
      "step: 3400  loss: 2.2940  0.2288 sec/batch\n",
      "step: 3600  loss: 2.2339  0.2270 sec/batch\n",
      "step: 3800  loss: 2.2710  0.2231 sec/batch\n",
      "step: 4000  loss: 2.2475  0.2215 sec/batch\n",
      "step: 4200  loss: 2.3031  0.2265 sec/batch\n",
      "step: 4400  loss: 2.3123  0.2267 sec/batch\n",
      "step: 4600  loss: 2.2946  0.2288 sec/batch\n",
      "step: 4800  loss: 2.2908  0.2291 sec/batch\n",
      "step: 5000  loss: 2.2493  0.2232 sec/batch\n",
      "step: 5200  loss: 2.2752  0.2272 sec/batch\n",
      "step: 5400  loss: 2.2610  0.2250 sec/batch\n",
      "step: 5600  loss: 2.2359  0.2320 sec/batch\n",
      "step: 5800  loss: 2.2874  0.2258 sec/batch\n",
      "step: 6000  loss: 2.2621  0.2248 sec/batch\n"
     ]
    }
   ],
   "source": [
    "# these are preset parameters, you can change them to get better result\n",
    "batch_size = 100         # Sequences per batch\n",
    "num_steps = 100          # Number of sequence steps per batch\n",
    "rnn_size = 256           # Size of hidden layers in rnn_cell\n",
    "num_layers = 2           # Number of hidden layers\n",
    "learning_rate = 0.005    # Learning rate\n",
    "\n",
    "model = CharRNN(len(vocab), batch_size, num_steps, 'GRU', rnn_size,\n",
    "               num_layers, learning_rate)\n",
    "batches = get_batches(text_as_int, batch_size, num_steps)\n",
    "model.train(batches, 6000, 2000)"
   ]
  },
  {
   "cell_type": "code",
   "execution_count": 12,
   "metadata": {},
   "outputs": [
    {
     "name": "stdout",
     "output_type": "stream",
     "text": [
      "INFO:tensorflow:Restoring parameters from checkpoints/i6000_l256.ckpt\n",
      "['L' 'O' 'R' ... ' ' 's' 't']\n",
      "LORD  hat tae e that aast aehid hes attis men st t wed  s wt sheo an m ou e eent ofat a ha  sat et a tarir  a at  th to a antel  taath iaeeathare  hoto   h a     allee  of  thaoert hohean owt o  toat a to o a ohat aatot   t t th o sehite   a ttoea t hetti t woh thohh ale hee aantoalin   t atitethae weriof t t  h   oo t o hede t ast m   at th   esee mese ae  sar  th w t tho artte t t ath ter hhere tat s hot tnthtetto ot  sheo  er htoorett etee o t e alo thite  t  an ta tththo at e waheto  aethe s  t an atetheert, edthat  anathe tth as m he t  n ssteonoe es  o ho our thitatiout tet es teou t alatht t me i tere at  heeee hte h  ttee w enous t t s t s t  hihaoto    at t sthe moo artha  thoe tieete athe s tenof eat e  terote we t ahe h t   o o h t wha ttes housera oesowo e tt  thalie watt t enofa t  h ert ws tt tthhare  seas as ttree aed taneneo eno o  hottho oe tet tomeonhae   ee tone hes  or ht antat t o  o  ee  e t te thath   a manoastet heeat  sto t onatar   me atoan  m tte thies h h asto st\n"
     ]
    }
   ],
   "source": [
    "model = CharRNN(len(vocab), batch_size, num_steps, 'GRU', rnn_size,\n",
    "               num_layers, learning_rate, sampling=True)\n",
    "# choose the last checkpoint and generate new text\n",
    "checkpoint = tf.train.latest_checkpoint('checkpoints')\n",
    "samp = model.sample(checkpoint, 1000, len(vocab), vocab_to_ind, ind_to_vocab, prime=\"LORD \")\n",
    "print(samp)\n",
    "print(''.join(samp))"
   ]
  },
  {
   "cell_type": "markdown",
   "metadata": {},
   "source": [
    "#### Questions\n",
    "1. Compare your result of two networks that you built and the reasons that caused the difference. (It is a qualitative comparison, it should be based on the specific model that you build.)\n",
    "2. Discuss the difference between LSTM cells and GRU cells, what are the pros and cons of using GRU cells?"
   ]
  },
  {
   "cell_type": "markdown",
   "metadata": {},
   "source": [
    "Answer:\n",
    "Ans 1: Both the models are outputting garbage and need to be trained better. But GRU model kept on repeating few characters very frequently and LSTM seemed to have better potential to get trained better.\n",
    "\n",
    "Ans 2 : (Source: Internet blog)\n",
    "The GRU unit controls the flow of information like the LSTM unit, but without having to use a memory unit. It just exposes the full hidden content without any control. GRU is computationally more efficient because of the less complex structure. But LSTMs remember longer sequences than GRUs. LSTM would outperform it in tasks requiring modeling long-distance relations."
   ]
  },
  {
   "cell_type": "code",
   "execution_count": null,
   "metadata": {},
   "outputs": [],
   "source": []
  }
 ],
 "metadata": {
  "kernelspec": {
   "display_name": "Python 3",
   "language": "python",
   "name": "python3"
  },
  "language_info": {
   "codemirror_mode": {
    "name": "ipython",
    "version": 3
   },
   "file_extension": ".py",
   "mimetype": "text/x-python",
   "name": "python",
   "nbconvert_exporter": "python",
   "pygments_lexer": "ipython3",
   "version": "3.6.5"
  }
 },
 "nbformat": 4,
 "nbformat_minor": 2
}
